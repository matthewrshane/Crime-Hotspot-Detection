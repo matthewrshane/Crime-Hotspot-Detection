{
 "cells": [
  {
   "cell_type": "code",
   "execution_count": 1,
   "metadata": {},
   "outputs": [],
   "source": [
    "import pandas as pd\n",
    "import numpy as np"
   ]
  },
  {
   "cell_type": "code",
   "execution_count": 2,
   "metadata": {},
   "outputs": [],
   "source": [
    "# vars\n",
    "# crime_data_filepath = \"C:/Users/Matthew/Downloads/NYPD_Complaint_Data_Historic_20240826.csv\"\n",
    "crime_data_filepath = \"C:/Users/mattd/Downloads/NYPD_Complaint_Data_Historic_20240904.csv\""
   ]
  },
  {
   "cell_type": "code",
   "execution_count": 33,
   "metadata": {},
   "outputs": [],
   "source": [
    "# map for renaming cols\n",
    "col_name_map = {\n",
    "    'CMPLNT_NUM': 'cmplnt_num',\n",
    "    'CMPLNT_FR_DT': 'cmplnt_fr_dt',\n",
    "    'CMPLNT_FR_TM': 'cmplnt_fr_tm',\n",
    "    'CMPLNT_TO_DT': 'cmplnt_to_dt',\n",
    "    'CMPLNT_TO_TM': 'cmplnt_to_tm',\n",
    "    'ADDR_PCT_CD': 'pct',\n",
    "    'RPT_DT': 'rpt_dt',\n",
    "    'KY_CD': 'ky_cd',\n",
    "    'OFNS_DESC': 'ofns_desc',\n",
    "    'PD_CD': 'pd_cd',\n",
    "    'PD_DESC': 'pd_desc',\n",
    "    'CRM_ATPT_CPTD_CD': 'crm_atpt_cptd_cd',\n",
    "    'LAW_CAT_CD': 'law_cat_cd',\n",
    "    'BORO_NM': 'boro_nm',\n",
    "    'LOC_OF_OCCUR_DESC': 'loc_of_occur_desc',\n",
    "    'PREM_TYP_DESC': 'prem_typ_desc',\n",
    "    'JURIS_DESC': 'juris_desc',\n",
    "    'JURISDICTION_CODE': 'juris_cd',\n",
    "    'PARKS_NM': 'park_nm',\n",
    "    'HADEVELOPT': 'psa_nm',\n",
    "    'HOUSING_PSA': 'psa_cd',\n",
    "    'X_COORD_CD': 'x_coord',\n",
    "    'Y_COORD_CD': 'y_coord',\n",
    "    'SUSP_AGE_GROUP': 'susp_age_rng',\n",
    "    'SUSP_RACE': 'susp_race',\n",
    "    'SUSP_SEX': 'susp_sex',\n",
    "    'TRANSIT_DISTRICT': 'transit_district',\n",
    "    'Latitude': 'lat',\n",
    "    'Longitude': 'lon',\n",
    "    'Lat_Lon': 'lat_lon',\n",
    "    'PATROL_BORO': 'boro',\n",
    "    'STATION_NAME': 'station_nm',\n",
    "    'VIC_AGE_GROUP': 'vic_age_rng',\n",
    "    'VIC_RACE': 'vic_race',\n",
    "    'VIC_SEX': 'vic_sex'\n",
    "}\n",
    "\n",
    "# lists of columns that are required (records with n/a in these cols will be dropped)\n",
    "col_drop_x = [\n",
    "    'x_coord',\n",
    "    'lon'\n",
    "]\n",
    "\n",
    "col_drop_y = [\n",
    "    'y_coord',\n",
    "    'lat'\n",
    "]\n",
    "\n",
    "col_drop_any = [\n",
    "    'cmplnt_num'\n",
    "]\n",
    "\n",
    "# map for min and max values of columns\n",
    "col_min_max_map = {\n",
    "    'cmplnt_fr_dt': ['1900-01-01', '2200,12-31'],\n",
    "    'cmplnt_fr_tm': ['1900-01-01', '2200,12-31'],\n",
    "    'cmplnt_to_dt': ['1900-01-01', '2200,12-31'],\n",
    "    'cmplnt_to_tm': ['1900-01-01', '2200,12-31'],\n",
    "    'pct': ['0', '10000'],\n",
    "    'rpt_dt': ['1900-01-01', '2200,12-31'],\n",
    "    'ky_cd': ['0', '10000'],\n",
    "    'pd_cd': ['0', '10000'],\n",
    "    'juris_cd': ['0', '10000'],\n",
    "    'psa_cd': ['0', '10000'],\n",
    "    'x_coord': ['0', '10000000'],\n",
    "    'y_coord': ['0', '10000000'],\n",
    "    'transit_district': ['0', '10000'],\n",
    "    'lat': ['-90', '90'],\n",
    "    'lon': ['-180', '180']\n",
    "}\n",
    "\n",
    "# map for setting col dtypes\n",
    "col_dtype_map = {\n",
    "    'cmplnt_num': str,\n",
    "    'cmplnt_fr_dt': 'datetime64[ns]',\n",
    "    'cmplnt_fr_tm': 'datetime64[ns]',\n",
    "    'cmplnt_to_dt': 'datetime64[ns]',\n",
    "    'cmplnt_to_tm': 'datetime64[ns]',\n",
    "    'pct': int,\n",
    "    'rpt_dt': 'datetime64[ns]',\n",
    "    'ky_cd': int,\n",
    "    'ofns_desc': str,\n",
    "    'pd_cd': int,\n",
    "    'pd_desc': str,\n",
    "    'crm_atpt_cptd_cd': str,\n",
    "    'law_cat_cd': str,\n",
    "    'boro_nm': str,\n",
    "    'loc_of_occur_desc': str,\n",
    "    'prem_typ_desc': str,\n",
    "    'juris_desc': str,\n",
    "    'juris_cd': int,\n",
    "    'park_nm': str,\n",
    "    'psa_nm': str,\n",
    "    'psa_cd': int,\n",
    "    'x_coord': int,\n",
    "    'y_coord': int,\n",
    "    'susp_age_rng': str,\n",
    "    'susp_race': str,\n",
    "    'susp_sex': str,\n",
    "    'transit_district': int,\n",
    "    'lat': float,\n",
    "    'lon': float,\n",
    "    'lat_lon': str,\n",
    "    'boro': str,\n",
    "    'station_nm': str,\n",
    "    'vic_age_rng': str,\n",
    "    'vic_race': str,\n",
    "    'vic_sex': str\n",
    "}"
   ]
  },
  {
   "cell_type": "code",
   "execution_count": 38,
   "metadata": {},
   "outputs": [
    {
     "name": "stderr",
     "output_type": "stream",
     "text": [
      "C:\\Users\\mattd\\AppData\\Local\\Temp\\ipykernel_7772\\1196876955.py:2: DtypeWarning: Columns (0) have mixed types. Specify dtype option on import or set low_memory=False.\n",
      "  df = pd.read_csv(crime_data_filepath, usecols=col_name_map.keys())\n"
     ]
    }
   ],
   "source": [
    "# load data\n",
    "df = pd.read_csv(crime_data_filepath, usecols=col_name_map.keys())"
   ]
  },
  {
   "cell_type": "code",
   "execution_count": 39,
   "metadata": {},
   "outputs": [
    {
     "ename": "TypeError",
     "evalue": "Invalid comparison between dtype=float64 and str",
     "output_type": "error",
     "traceback": [
      "\u001b[1;31m---------------------------------------------------------------------------\u001b[0m",
      "\u001b[1;31mTypeError\u001b[0m                                 Traceback (most recent call last)",
      "Cell \u001b[1;32mIn[39], line 14\u001b[0m\n\u001b[0;32m     11\u001b[0m \u001b[38;5;66;03m# replace values outside of min/max\u001b[39;00m\n\u001b[0;32m     12\u001b[0m \u001b[38;5;28;01mfor\u001b[39;00m col_name, col_range \u001b[38;5;129;01min\u001b[39;00m col_min_max_map\u001b[38;5;241m.\u001b[39mitems():\n\u001b[0;32m     13\u001b[0m     df[col_name]\u001b[38;5;241m.\u001b[39mcase_when(caselist\u001b[38;5;241m=\u001b[39m[\n\u001b[1;32m---> 14\u001b[0m         (\u001b[43mdf\u001b[49m\u001b[43m[\u001b[49m\u001b[43mcol_name\u001b[49m\u001b[43m]\u001b[49m\u001b[43m \u001b[49m\u001b[38;5;241;43m<\u001b[39;49m\u001b[43m \u001b[49m\u001b[43mcol_range\u001b[49m\u001b[43m[\u001b[49m\u001b[38;5;241;43m0\u001b[39;49m\u001b[43m]\u001b[49m, col_range[\u001b[38;5;241m0\u001b[39m]),\n\u001b[0;32m     15\u001b[0m         (df[col_name] \u001b[38;5;241m>\u001b[39m col_range[\u001b[38;5;241m1\u001b[39m], col_range[\u001b[38;5;241m1\u001b[39m])\n\u001b[0;32m     16\u001b[0m     ])\n\u001b[0;32m     18\u001b[0m \u001b[38;5;66;03m# set column dtypes\u001b[39;00m\n\u001b[0;32m     19\u001b[0m \u001b[38;5;66;03m# df = df.astype(dtype=col_dtype_map)\u001b[39;00m\n",
      "File \u001b[1;32mc:\\Users\\mattd\\OneDrive\\Desktop\\Python\\crime hotspot\\.venv\\Lib\\site-packages\\pandas\\core\\ops\\common.py:76\u001b[0m, in \u001b[0;36m_unpack_zerodim_and_defer.<locals>.new_method\u001b[1;34m(self, other)\u001b[0m\n\u001b[0;32m     72\u001b[0m             \u001b[38;5;28;01mreturn\u001b[39;00m \u001b[38;5;28mNotImplemented\u001b[39m\n\u001b[0;32m     74\u001b[0m other \u001b[38;5;241m=\u001b[39m item_from_zerodim(other)\n\u001b[1;32m---> 76\u001b[0m \u001b[38;5;28;01mreturn\u001b[39;00m \u001b[43mmethod\u001b[49m\u001b[43m(\u001b[49m\u001b[38;5;28;43mself\u001b[39;49m\u001b[43m,\u001b[49m\u001b[43m \u001b[49m\u001b[43mother\u001b[49m\u001b[43m)\u001b[49m\n",
      "File \u001b[1;32mc:\\Users\\mattd\\OneDrive\\Desktop\\Python\\crime hotspot\\.venv\\Lib\\site-packages\\pandas\\core\\arraylike.py:48\u001b[0m, in \u001b[0;36mOpsMixin.__lt__\u001b[1;34m(self, other)\u001b[0m\n\u001b[0;32m     46\u001b[0m \u001b[38;5;129m@unpack_zerodim_and_defer\u001b[39m(\u001b[38;5;124m\"\u001b[39m\u001b[38;5;124m__lt__\u001b[39m\u001b[38;5;124m\"\u001b[39m)\n\u001b[0;32m     47\u001b[0m \u001b[38;5;28;01mdef\u001b[39;00m \u001b[38;5;21m__lt__\u001b[39m(\u001b[38;5;28mself\u001b[39m, other):\n\u001b[1;32m---> 48\u001b[0m     \u001b[38;5;28;01mreturn\u001b[39;00m \u001b[38;5;28;43mself\u001b[39;49m\u001b[38;5;241;43m.\u001b[39;49m\u001b[43m_cmp_method\u001b[49m\u001b[43m(\u001b[49m\u001b[43mother\u001b[49m\u001b[43m,\u001b[49m\u001b[43m \u001b[49m\u001b[43moperator\u001b[49m\u001b[38;5;241;43m.\u001b[39;49m\u001b[43mlt\u001b[49m\u001b[43m)\u001b[49m\n",
      "File \u001b[1;32mc:\\Users\\mattd\\OneDrive\\Desktop\\Python\\crime hotspot\\.venv\\Lib\\site-packages\\pandas\\core\\series.py:6119\u001b[0m, in \u001b[0;36mSeries._cmp_method\u001b[1;34m(self, other, op)\u001b[0m\n\u001b[0;32m   6116\u001b[0m lvalues \u001b[38;5;241m=\u001b[39m \u001b[38;5;28mself\u001b[39m\u001b[38;5;241m.\u001b[39m_values\n\u001b[0;32m   6117\u001b[0m rvalues \u001b[38;5;241m=\u001b[39m extract_array(other, extract_numpy\u001b[38;5;241m=\u001b[39m\u001b[38;5;28;01mTrue\u001b[39;00m, extract_range\u001b[38;5;241m=\u001b[39m\u001b[38;5;28;01mTrue\u001b[39;00m)\n\u001b[1;32m-> 6119\u001b[0m res_values \u001b[38;5;241m=\u001b[39m \u001b[43mops\u001b[49m\u001b[38;5;241;43m.\u001b[39;49m\u001b[43mcomparison_op\u001b[49m\u001b[43m(\u001b[49m\u001b[43mlvalues\u001b[49m\u001b[43m,\u001b[49m\u001b[43m \u001b[49m\u001b[43mrvalues\u001b[49m\u001b[43m,\u001b[49m\u001b[43m \u001b[49m\u001b[43mop\u001b[49m\u001b[43m)\u001b[49m\n\u001b[0;32m   6121\u001b[0m \u001b[38;5;28;01mreturn\u001b[39;00m \u001b[38;5;28mself\u001b[39m\u001b[38;5;241m.\u001b[39m_construct_result(res_values, name\u001b[38;5;241m=\u001b[39mres_name)\n",
      "File \u001b[1;32mc:\\Users\\mattd\\OneDrive\\Desktop\\Python\\crime hotspot\\.venv\\Lib\\site-packages\\pandas\\core\\ops\\array_ops.py:341\u001b[0m, in \u001b[0;36mcomparison_op\u001b[1;34m(left, right, op)\u001b[0m\n\u001b[0;32m    337\u001b[0m         res_values \u001b[38;5;241m=\u001b[39m np\u001b[38;5;241m.\u001b[39mzeros(lvalues\u001b[38;5;241m.\u001b[39mshape, dtype\u001b[38;5;241m=\u001b[39m\u001b[38;5;28mbool\u001b[39m)\n\u001b[0;32m    339\u001b[0m \u001b[38;5;28;01melif\u001b[39;00m is_numeric_v_string_like(lvalues, rvalues):\n\u001b[0;32m    340\u001b[0m     \u001b[38;5;66;03m# GH#36377 going through the numexpr path would incorrectly raise\u001b[39;00m\n\u001b[1;32m--> 341\u001b[0m     \u001b[38;5;28;01mreturn\u001b[39;00m \u001b[43minvalid_comparison\u001b[49m\u001b[43m(\u001b[49m\u001b[43mlvalues\u001b[49m\u001b[43m,\u001b[49m\u001b[43m \u001b[49m\u001b[43mrvalues\u001b[49m\u001b[43m,\u001b[49m\u001b[43m \u001b[49m\u001b[43mop\u001b[49m\u001b[43m)\u001b[49m\n\u001b[0;32m    343\u001b[0m \u001b[38;5;28;01melif\u001b[39;00m lvalues\u001b[38;5;241m.\u001b[39mdtype \u001b[38;5;241m==\u001b[39m \u001b[38;5;28mobject\u001b[39m \u001b[38;5;129;01mor\u001b[39;00m \u001b[38;5;28misinstance\u001b[39m(rvalues, \u001b[38;5;28mstr\u001b[39m):\n\u001b[0;32m    344\u001b[0m     res_values \u001b[38;5;241m=\u001b[39m comp_method_OBJECT_ARRAY(op, lvalues, rvalues)\n",
      "File \u001b[1;32mc:\\Users\\mattd\\OneDrive\\Desktop\\Python\\crime hotspot\\.venv\\Lib\\site-packages\\pandas\\core\\ops\\invalid.py:40\u001b[0m, in \u001b[0;36minvalid_comparison\u001b[1;34m(left, right, op)\u001b[0m\n\u001b[0;32m     38\u001b[0m \u001b[38;5;28;01melse\u001b[39;00m:\n\u001b[0;32m     39\u001b[0m     typ \u001b[38;5;241m=\u001b[39m \u001b[38;5;28mtype\u001b[39m(right)\u001b[38;5;241m.\u001b[39m\u001b[38;5;18m__name__\u001b[39m\n\u001b[1;32m---> 40\u001b[0m     \u001b[38;5;28;01mraise\u001b[39;00m \u001b[38;5;167;01mTypeError\u001b[39;00m(\u001b[38;5;124mf\u001b[39m\u001b[38;5;124m\"\u001b[39m\u001b[38;5;124mInvalid comparison between dtype=\u001b[39m\u001b[38;5;132;01m{\u001b[39;00mleft\u001b[38;5;241m.\u001b[39mdtype\u001b[38;5;132;01m}\u001b[39;00m\u001b[38;5;124m and \u001b[39m\u001b[38;5;132;01m{\u001b[39;00mtyp\u001b[38;5;132;01m}\u001b[39;00m\u001b[38;5;124m\"\u001b[39m)\n\u001b[0;32m     41\u001b[0m \u001b[38;5;28;01mreturn\u001b[39;00m res_values\n",
      "\u001b[1;31mTypeError\u001b[0m: Invalid comparison between dtype=float64 and str"
     ]
    }
   ],
   "source": [
    "# rename columns\n",
    "df = df.rename(columns=col_name_map)\n",
    "\n",
    "# drop na values on x_coord and lon or y_coord and lat\n",
    "df = df.dropna(subset=col_drop_x, how='all')\n",
    "df = df.dropna(subset=col_drop_y, how='all')\n",
    "\n",
    "# drop na values for any of the following columns\n",
    "df = df.dropna(subset=col_drop_any, how='any')\n",
    "\n",
    "# replace values outside of min/max\n",
    "for col_name, col_range in col_min_max_map.items():\n",
    "    df[col_name].case_when(caselist=[\n",
    "        (df[col_name] < col_range[0], col_range[0]),\n",
    "        (df[col_name] > col_range[1], col_range[1])\n",
    "    ])\n",
    "\n",
    "# set column dtypes\n",
    "# df = df.astype(dtype=col_dtype_map)"
   ]
  },
  {
   "cell_type": "code",
   "execution_count": null,
   "metadata": {},
   "outputs": [],
   "source": []
  }
 ],
 "metadata": {
  "kernelspec": {
   "display_name": ".venv",
   "language": "python",
   "name": "python3"
  },
  "language_info": {
   "codemirror_mode": {
    "name": "ipython",
    "version": 3
   },
   "file_extension": ".py",
   "mimetype": "text/x-python",
   "name": "python",
   "nbconvert_exporter": "python",
   "pygments_lexer": "ipython3",
   "version": "3.11.1"
  }
 },
 "nbformat": 4,
 "nbformat_minor": 2
}
